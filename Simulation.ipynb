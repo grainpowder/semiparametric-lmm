{
 "cells": [
  {
   "cell_type": "code",
   "execution_count": 18,
   "metadata": {},
   "outputs": [],
   "source": [
    "import StochasticFrontier as SF\n",
    "import numpy as np\n",
    "from misc import makeZ\n",
    "\n",
    "# Simulation\n",
    "gammaSF = SF.Gamma()\n",
    "n = 20; ti = 5\n",
    "N = n*ti; D = 10\n",
    "nrows = np.ones(n, dtype=int)\n",
    "Z = makeZ(nrows*ti)\n",
    "sigma = 0.5\n",
    "theta = 2\n",
    "lamb = 2\n",
    "\n",
    "np.random.seed(1)\n",
    "betaT = np.random.normal(0, sigma, D+1)\n",
    "uT = np.random.gamma(theta, 1/lamb, size=n)\n",
    "w = np.random.normal(0, 1, N*D).reshape(N,D)\n",
    "y = np.hstack((np.ones(N).reshape(N,1),w))@betaT+Z@uT+np.random.normal(0,1,N)\n",
    "\n",
    "gammaSF.fit(y,w,Z)"
   ]
  },
  {
   "cell_type": "code",
   "execution_count": 19,
   "metadata": {},
   "outputs": [
    {
     "data": {
      "text/plain": [
       "array([0.20076406, 0.26906155, 0.48032959, 0.47376624, 0.30918104,\n",
       "       0.89212354, 0.34348725, 0.98483071, 0.15939883, 0.40990866,\n",
       "       1.07561339, 0.73817387, 0.22359761, 0.22835197, 0.40268239,\n",
       "       0.30398835, 0.29862226, 0.34300684, 0.45272938, 0.19429986])"
      ]
     },
     "execution_count": 19,
     "metadata": {},
     "output_type": "execute_result"
    }
   ],
   "source": [
    "gammaSF.muu_q"
   ]
  },
  {
   "cell_type": "code",
   "execution_count": 20,
   "metadata": {},
   "outputs": [
    {
     "data": {
      "text/plain": [
       "array([0.08545986, 1.25327543, 0.51853354, 1.39892093, 1.09803155,\n",
       "       1.22758109, 0.77536351, 1.8091535 , 0.29617177, 0.39624752,\n",
       "       1.62012603, 1.53382321, 0.76348356, 0.31988259, 1.33280237,\n",
       "       0.90171428, 0.49301441, 0.49834755, 1.04718243, 0.51184092])"
      ]
     },
     "execution_count": 20,
     "metadata": {},
     "output_type": "execute_result"
    }
   ],
   "source": [
    "uT"
   ]
  },
  {
   "cell_type": "code",
   "execution_count": 21,
   "metadata": {},
   "outputs": [
    {
     "data": {
      "text/plain": [
       "0.19138112389542938"
      ]
     },
     "execution_count": 21,
     "metadata": {},
     "output_type": "execute_result"
    }
   ],
   "source": [
    "np.mean((gammaSF.mubeta_q-betaT)**2)"
   ]
  },
  {
   "cell_type": "code",
   "execution_count": 22,
   "metadata": {},
   "outputs": [
    {
     "data": {
      "text/plain": [
       "[<matplotlib.lines.Line2D at 0x1d52f735948>]"
      ]
     },
     "execution_count": 22,
     "metadata": {},
     "output_type": "execute_result"
    },
    {
     "data": {
      "image/png": "[encoded data removed]",
      "text/plain": [
       "<Figure size 432x288 with 1 Axes>"
      ]
     },
     "metadata": {
      "needs_background": "light"
     },
     "output_type": "display_data"
    }
   ],
   "source": [
    "import matplotlib.pyplot as plt\n",
    "plt.plot(gammaSF.mubeta_q, betaT, 'o')"
   ]
  },
  {
   "cell_type": "code",
   "execution_count": null,
   "metadata": {},
   "outputs": [],
   "source": []
  }
 ],
 "metadata": {
  "kernelspec": {
   "display_name": "Python 3",
   "language": "python",
   "name": "python3"
  },
  "language_info": {
   "codemirror_mode": {
    "name": "ipython",
    "version": 3
   },
   "file_extension": ".py",
   "mimetype": "text/x-python",
   "name": "python",
   "nbconvert_exporter": "python",
   "pygments_lexer": "ipython3",
   "version": "3.7.5"
  }
 },
 "nbformat": 4,
 "nbformat_minor": 2
}
